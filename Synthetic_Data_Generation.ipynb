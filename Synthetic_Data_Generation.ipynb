{
  "nbformat": 4,
  "nbformat_minor": 0,
  "metadata": {
    "colab": {
      "provenance": []
    },
    "kernelspec": {
      "name": "python3",
      "display_name": "Python 3"
    },
    "language_info": {
      "name": "python"
    }
  },
  "cells": [
    {
      "cell_type": "markdown",
      "source": [
        "#Generating artificial Price data as our scrapper was taking too long to gather whole data"
      ],
      "metadata": {
        "id": "uMo_GlizZcUW"
      }
    },
    {
      "cell_type": "code",
      "execution_count": null,
      "metadata": {
        "id": "Gv1iEkiLZaeW"
      },
      "outputs": [],
      "source": [
        "\n",
        "import numpy as np\n",
        "import pandas as pd\n",
        "from itertools import product\n",
        "import matplotlib.pyplot as plt\n",
        "from scipy.stats import lognorm\n",
        "\n",
        "num_days = 56\n",
        "# Parameters for the log-normal distribution for hotel prices\n",
        "hotel_mean, hotel_sigma = 9, 0.1\n",
        "hotel_scale = np.exp(hotel_mean)\n",
        "\n",
        "# Parameters for the gamma distribution for flight prices\n",
        "flight_shape, flight_scale = 10, 0.5\n",
        "\n",
        "hotels = ['Taj', 'Marriott', 'ITC']\n",
        "venues = ['Delhi-Arun Jaitley Stadium', 'Mumbai-Wankhede Stadium',\n",
        "          'Hyderabad-Rajiv Gandhi International Cricket Stadium',\n",
        "          'Chennai-M.A. Chidambaram Chepauk Stadium',\n",
        "          'Kolkata-Eden Gardens', 'Mohali- Cricket Association\\'s Bindra Stadium',\n",
        "          'Bangalore-M. Chinnaswamy Stadium',\n",
        "          'Jaipur-Anil Agarwal International Cricket Stadium']\n",
        "\n",
        "\n",
        "dates = pd.date_range(start=\"2024-05-24\", periods=num_days, freq='D')\n",
        "\n",
        "hotel_list = list(product(dates, hotels, venues))\n",
        "flight_list = list(product(dates, venues, venues))\n",
        "\n",
        "\n",
        "flight_list = [item for item in flight_list if item[1] != item[2]]\n",
        "\n",
        "\n",
        "hotel_df = pd.DataFrame(hotel_list, columns=['Date', 'Hotel', 'Venue'])\n",
        "hotel_df['Hotel_Price'] = lognorm.rvs(s=hotel_sigma, scale=hotel_scale, size=len(hotel_df))\n",
        "# convreting in form of x thousand rupees\n",
        "hotel_df['Hotel_Price'] = hotel_df['Hotel_Price'].div(1000)\n",
        "\n",
        "flight_df = pd.DataFrame(flight_list, columns=['Date', 'Source', 'Destination'])\n",
        "flight_df['Flight_Price'] = np.random.gamma(flight_shape, flight_scale, size=len(flight_df))\n",
        "\n",
        "\n",
        "with pd.ExcelWriter('/content/DetailedGeneratedPrices.xlsx') as writer:\n",
        "    hotel_df.to_excel(writer, sheet_name='Hotel_Prices', index=False)\n",
        "    flight_df.to_excel(writer, sheet_name='Flight_Prices', index=False)\n"
      ]
    }
  ]
}